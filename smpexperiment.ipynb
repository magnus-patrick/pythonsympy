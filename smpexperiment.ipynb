{
 "cells": [
  {
   "cell_type": "markdown",
   "id": "5d6e04ed",
   "metadata": {},
   "source": [
    "# SymPy Library!"
   ]
  },
  {
   "cell_type": "code",
   "execution_count": 1,
   "id": "44c6251b",
   "metadata": {},
   "outputs": [],
   "source": [
    "import sympy as smp\n",
    "\n",
    "x = smp.symbols('x')"
   ]
  },
  {
   "cell_type": "markdown",
   "id": "2a5f70f1",
   "metadata": {},
   "source": [
    "## Algebra"
   ]
  },
  {
   "cell_type": "markdown",
   "id": "c2da4447",
   "metadata": {},
   "source": [
    "Factoring & Expanding"
   ]
  },
  {
   "cell_type": "code",
   "execution_count": 12,
   "id": "cdf20c5e",
   "metadata": {},
   "outputs": [
    {
     "data": {
      "text/latex": [
       "$\\displaystyle \\left(x^{2} + 4 x + 3\\right)^{2}$"
      ],
      "text/plain": [
       "(x**2 + 4*x + 3)**2"
      ]
     },
     "execution_count": 12,
     "metadata": {},
     "output_type": "execute_result"
    }
   ],
   "source": [
    "y = x**2 + 4*x + 3\n",
    "z = y**2\n",
    "z"
   ]
  },
  {
   "cell_type": "code",
   "execution_count": 7,
   "id": "652bf6fa",
   "metadata": {},
   "outputs": [
    {
     "data": {
      "text/latex": [
       "$\\displaystyle \\left(x + 1\\right)^{2} \\left(x + 3\\right)^{2}$"
      ],
      "text/plain": [
       "(x + 1)**2*(x + 3)**2"
      ]
     },
     "execution_count": 7,
     "metadata": {},
     "output_type": "execute_result"
    }
   ],
   "source": [
    "z.factor()"
   ]
  },
  {
   "cell_type": "code",
   "execution_count": 8,
   "id": "3f80daf4",
   "metadata": {},
   "outputs": [
    {
     "data": {
      "text/latex": [
       "$\\displaystyle x^{4} + 8 x^{3} + 22 x^{2} + 24 x + 9$"
      ],
      "text/plain": [
       "x**4 + 8*x**3 + 22*x**2 + 24*x + 9"
      ]
     },
     "execution_count": 8,
     "metadata": {},
     "output_type": "execute_result"
    }
   ],
   "source": [
    "z.expand()"
   ]
  },
  {
   "cell_type": "markdown",
   "id": "88b6e3db",
   "metadata": {},
   "source": [
    "The solve function calculates the zeros of the first parameter (in this case, z)."
   ]
  },
  {
   "cell_type": "code",
   "execution_count": 9,
   "id": "29d99a05",
   "metadata": {},
   "outputs": [
    {
     "data": {
      "text/plain": [
       "[-3, -1]"
      ]
     },
     "execution_count": 9,
     "metadata": {},
     "output_type": "execute_result"
    }
   ],
   "source": [
    "smp.solve(z, x)"
   ]
  },
  {
   "cell_type": "code",
   "execution_count": 10,
   "id": "5f02280d",
   "metadata": {},
   "outputs": [
    {
     "data": {
      "text/plain": [
       "[pi/2, 3*pi/2]"
      ]
     },
     "execution_count": 10,
     "metadata": {},
     "output_type": "execute_result"
    }
   ],
   "source": [
    "smp.solve(smp.cos(x), x)"
   ]
  },
  {
   "cell_type": "markdown",
   "id": "76a3fa83",
   "metadata": {},
   "source": [
    "For the symbols function, it can be optimal to specify if your variable is real, positive, etc. especially when evaluating integrals."
   ]
  },
  {
   "cell_type": "code",
   "execution_count": null,
   "id": "0e333f40",
   "metadata": {},
   "outputs": [
    {
     "data": {
      "text/plain": [
       "[-I, I]"
      ]
     },
     "execution_count": 16,
     "metadata": {},
     "output_type": "execute_result"
    }
   ],
   "source": [
    "x = smp.symbols('x')\n",
    "smp.solve(x**2 + 1, x) # I is the imaginary unit, the sqrt of -1."
   ]
  },
  {
   "cell_type": "code",
   "execution_count": 15,
   "id": "bb8ffc67",
   "metadata": {},
   "outputs": [
    {
     "data": {
      "text/plain": [
       "[]"
      ]
     },
     "execution_count": 15,
     "metadata": {},
     "output_type": "execute_result"
    }
   ],
   "source": [
    "x = smp.symbols('x', real = True)\n",
    "smp.solve(x**2 + 1, x)"
   ]
  },
  {
   "cell_type": "code",
   "execution_count": null,
   "id": "3bbd9d22",
   "metadata": {},
   "outputs": [
    {
     "data": {
      "text/plain": [
       "[1]"
      ]
     },
     "execution_count": 20,
     "metadata": {},
     "output_type": "execute_result"
    }
   ],
   "source": [
    "x = smp.symbols('x', positive = True)\n",
    "smp.solve(x**2 - 1, x)"
   ]
  },
  {
   "cell_type": "markdown",
   "id": "731df20c",
   "metadata": {},
   "source": [
    "The symbols function can define multiple variables at once!"
   ]
  },
  {
   "cell_type": "code",
   "execution_count": 18,
   "id": "c43f053c",
   "metadata": {},
   "outputs": [
    {
     "data": {
      "text/latex": [
       "$\\displaystyle x^{2} + y \\sin{\\left(z \\right)}$"
      ],
      "text/plain": [
       "x**2 + y*sin(z)"
      ]
     },
     "execution_count": 18,
     "metadata": {},
     "output_type": "execute_result"
    }
   ],
   "source": [
    "x, y, z = smp.symbols('x y z')\n",
    "F = x**2 + y*smp.sin(z)\n",
    "F"
   ]
  },
  {
   "cell_type": "markdown",
   "id": "31b49e9c",
   "metadata": {},
   "source": [
    "And.. they can solve equations with multivariable functions!"
   ]
  },
  {
   "cell_type": "code",
   "execution_count": null,
   "id": "eaf61183",
   "metadata": {},
   "outputs": [
    {
     "data": {
      "text/plain": [
       "[]"
      ]
     },
     "execution_count": 22,
     "metadata": {},
     "output_type": "execute_result"
    }
   ],
   "source": [
    "xsols = smp.solve(F, x)\n",
    "xsols"
   ]
  },
  {
   "cell_type": "code",
   "execution_count": 23,
   "id": "99094599",
   "metadata": {},
   "outputs": [
    {
     "data": {
      "text/plain": [
       "[-x**2/sin(z)]"
      ]
     },
     "execution_count": 23,
     "metadata": {},
     "output_type": "execute_result"
    }
   ],
   "source": [
    "ysols = smp.solve(F, y)\n",
    "ysols"
   ]
  },
  {
   "cell_type": "code",
   "execution_count": null,
   "id": "12d41ba5",
   "metadata": {},
   "outputs": [
    {
     "data": {
      "text/plain": [
       "[asin(x**2/y) + pi, -asin(x**2/y)]"
      ]
     },
     "execution_count": 24,
     "metadata": {},
     "output_type": "execute_result"
    }
   ],
   "source": [
    "zsols = smp.solve(F, z)\n",
    "zsols # asin is known as arcsine or inverse sine."
   ]
  },
  {
   "cell_type": "markdown",
   "id": "478627e2",
   "metadata": {},
   "source": [
    "SymPy expressions can be converted into numerical functions for plotting on the computer."
   ]
  },
  {
   "cell_type": "code",
   "execution_count": null,
   "id": "64915bd5",
   "metadata": {},
   "outputs": [
    {
     "data": {
      "text/latex": [
       "$\\displaystyle \\operatorname{asin}{\\left(\\frac{x^{2}}{y} \\right)} + \\pi$"
      ],
      "text/plain": [
       "asin(x**2/y) + pi"
      ]
     },
     "execution_count": 25,
     "metadata": {},
     "output_type": "execute_result"
    }
   ],
   "source": [
    "expr = zsols[0] # Takes the 0th element of zsols.\n",
    "expr"
   ]
  },
  {
   "cell_type": "markdown",
   "id": "286592b3",
   "metadata": {},
   "source": [
    "lambdify() turns a symbolic expression into a lambda function."
   ]
  },
  {
   "cell_type": "code",
   "execution_count": null,
   "id": "0dfbc5f7",
   "metadata": {},
   "outputs": [
    {
     "data": {
      "text/plain": [
       "3.6651914291880923"
      ]
     },
     "execution_count": 27,
     "metadata": {},
     "output_type": "execute_result"
    }
   ],
   "source": [
    "expr_f = smp.lambdify([x, y], expr) # First argument of lamdify() takes in the symbols as arguments, and the second argument is the expression to be turned into a lambda function.\n",
    "float(expr_f(1, 2)) # This substitutes x for 1, and y for 2."
   ]
  },
  {
   "cell_type": "markdown",
   "id": "85f907e1",
   "metadata": {},
   "source": [
    "The subs() function also works."
   ]
  },
  {
   "cell_type": "code",
   "execution_count": 29,
   "id": "9b8465e4",
   "metadata": {},
   "outputs": [
    {
     "data": {
      "text/latex": [
       "$\\displaystyle x^{2} + y \\sin{\\left(z \\right)}$"
      ],
      "text/plain": [
       "x**2 + y*sin(z)"
      ]
     },
     "execution_count": 29,
     "metadata": {},
     "output_type": "execute_result"
    }
   ],
   "source": [
    "F"
   ]
  },
  {
   "cell_type": "code",
   "execution_count": 42,
   "id": "77e3c2d4",
   "metadata": {},
   "outputs": [
    {
     "data": {
      "text/latex": [
       "$\\displaystyle x^{2} + 10$"
      ],
      "text/plain": [
       "x**2 + 10"
      ]
     },
     "execution_count": 42,
     "metadata": {},
     "output_type": "execute_result"
    }
   ],
   "source": [
    "F.subs([(y, 10),(z, smp.pi / 2)]) # The order of the tuples affects the order of the substitution."
   ]
  },
  {
   "cell_type": "markdown",
   "id": "e335df7f",
   "metadata": {},
   "source": [
    "## Calculus"
   ]
  },
  {
   "cell_type": "code",
   "execution_count": null,
   "id": "eaa1567d",
   "metadata": {},
   "outputs": [],
   "source": [
    "x = smp.symbols('x')"
   ]
  },
  {
   "cell_type": "markdown",
   "id": "6598a11a",
   "metadata": {},
   "source": [
    "Derivatives"
   ]
  },
  {
   "cell_type": "markdown",
   "id": "ca60e11e",
   "metadata": {},
   "source": [
    "$$\\frac{d}{dx} \\left(\\frac{2 + 4\\sin(2x)}{x^2} \\right)^2 $$"
   ]
  },
  {
   "cell_type": "code",
   "execution_count": 2,
   "id": "c475422e",
   "metadata": {},
   "outputs": [
    {
     "data": {
      "text/latex": [
       "$\\displaystyle \\frac{16 \\left(4 \\sin{\\left(2 x \\right)} + 2\\right) \\cos{\\left(2 x \\right)}}{x^{4}} - \\frac{4 \\left(4 \\sin{\\left(2 x \\right)} + 2\\right)^{2}}{x^{5}}$"
      ],
      "text/plain": [
       "16*(4*sin(2*x) + 2)*cos(2*x)/x**4 - 4*(4*sin(2*x) + 2)**2/x**5"
      ]
     },
     "execution_count": 2,
     "metadata": {},
     "output_type": "execute_result"
    }
   ],
   "source": [
    "smp.diff(((2 + 4*smp.sin(2*x))/x**2)**2)"
   ]
  },
  {
   "cell_type": "markdown",
   "id": "5785de30",
   "metadata": {},
   "source": [
    "$$\\frac{d}{dx} f(x + g(x))$$"
   ]
  },
  {
   "cell_type": "code",
   "execution_count": null,
   "id": "3635f179",
   "metadata": {},
   "outputs": [
    {
     "data": {
      "text/latex": [
       "$\\displaystyle f{\\left(x + g{\\left(x \\right)} \\right)}$"
      ],
      "text/plain": [
       "f(x + g(x))"
      ]
     },
     "execution_count": 3,
     "metadata": {},
     "output_type": "execute_result"
    }
   ],
   "source": [
    "f, g = smp.symbols('f g', cls = smp.Function) # cls = smp.Function allows us to make the mathematical functions defined below.\n",
    "g = g(x)\n",
    "f = f(x + g)\n",
    "f"
   ]
  },
  {
   "cell_type": "code",
   "execution_count": null,
   "id": "d37396ae",
   "metadata": {},
   "outputs": [
    {
     "data": {
      "text/latex": [
       "$\\displaystyle \\left(\\frac{d}{d x} g{\\left(x \\right)} + 1\\right) \\left. \\frac{d}{d \\xi_{1}} f{\\left(\\xi_{1} \\right)} \\right|_{\\substack{ \\xi_{1}=x + g{\\left(x \\right)} }}$"
      ],
      "text/plain": [
       "(Derivative(g(x), x) + 1)*Subs(Derivative(f(_xi_1), _xi_1), _xi_1, x + g(x))"
      ]
     },
     "execution_count": 4,
     "metadata": {},
     "output_type": "execute_result"
    }
   ],
   "source": [
    "dfdx = smp.diff(f, x)\n",
    "dfdx # This is the chain rule. The derivative of the inside (x + g(x)) times the derivative of f evaluated at x + g(x) "
   ]
  },
  {
   "cell_type": "code",
   "execution_count": 6,
   "id": "aad642ff",
   "metadata": {},
   "outputs": [
    {
     "data": {
      "text/latex": [
       "$\\displaystyle \\left(\\frac{d}{d x} \\sin{\\left(x \\right)} + 1\\right) \\left. \\frac{d}{d \\xi_{1}} f{\\left(\\xi_{1} \\right)} \\right|_{\\substack{ \\xi_{1}=x + \\sin{\\left(x \\right)} }}$"
      ],
      "text/plain": [
       "(Derivative(sin(x), x) + 1)*Subs(Derivative(f(_xi_1), _xi_1), _xi_1, x + sin(x))"
      ]
     },
     "execution_count": 6,
     "metadata": {},
     "output_type": "execute_result"
    }
   ],
   "source": [
    "dfdx.subs([(g, smp.sin(x))])"
   ]
  },
  {
   "cell_type": "code",
   "execution_count": null,
   "id": "8146b493",
   "metadata": {},
   "outputs": [
    {
     "data": {
      "text/latex": [
       "$\\displaystyle \\left(\\cos{\\left(x \\right)} + 1\\right) \\left. \\frac{d}{d \\xi_{1}} f{\\left(\\xi_{1} \\right)} \\right|_{\\substack{ \\xi_{1}=x + \\sin{\\left(x \\right)} }}$"
      ],
      "text/plain": [
       "(cos(x) + 1)*Subs(Derivative(f(_xi_1), _xi_1), _xi_1, x + sin(x))"
      ]
     },
     "execution_count": 7,
     "metadata": {},
     "output_type": "execute_result"
    }
   ],
   "source": [
    "dfdx.subs([(g, smp.sin(x))]).doit() # .doit() must be called if the substitution occurs without further operations."
   ]
  },
  {
   "cell_type": "markdown",
   "id": "dc153e66",
   "metadata": {},
   "source": [
    "Antiderivatives"
   ]
  },
  {
   "cell_type": "markdown",
   "id": "cd1c2a43",
   "metadata": {},
   "source": [
    "$$\\int \\sec(x) \\tan(x)dx$$"
   ]
  },
  {
   "cell_type": "code",
   "execution_count": 8,
   "id": "f6c6290d",
   "metadata": {},
   "outputs": [
    {
     "data": {
      "text/latex": [
       "$\\displaystyle \\frac{1}{\\cos{\\left(x \\right)}}$"
      ],
      "text/plain": [
       "1/cos(x)"
      ]
     },
     "execution_count": 8,
     "metadata": {},
     "output_type": "execute_result"
    }
   ],
   "source": [
    "smp.integrate(smp.sec(x)*smp.tan(x), x)"
   ]
  },
  {
   "cell_type": "markdown",
   "id": "f1964207",
   "metadata": {},
   "source": [
    "$$\\int_{0}^{\\frac{\\pi}{2}} \\cos(x) dx$$"
   ]
  },
  {
   "cell_type": "code",
   "execution_count": 9,
   "id": "19b2be88",
   "metadata": {},
   "outputs": [
    {
     "data": {
      "text/latex": [
       "$\\displaystyle 1$"
      ],
      "text/plain": [
       "1"
      ]
     },
     "execution_count": 9,
     "metadata": {},
     "output_type": "execute_result"
    }
   ],
   "source": [
    "smp.integrate(smp.cos(x), (x, 0, smp.pi / 2))"
   ]
  },
  {
   "cell_type": "markdown",
   "id": "644a801e",
   "metadata": {},
   "source": [
    "$$\\int_{1}^{t} x^{10} e^x dx$$"
   ]
  },
  {
   "cell_type": "code",
   "execution_count": 11,
   "id": "81651115",
   "metadata": {},
   "outputs": [],
   "source": [
    "t = smp.symbols('t')"
   ]
  },
  {
   "cell_type": "code",
   "execution_count": 12,
   "id": "96abc7a9",
   "metadata": {},
   "outputs": [
    {
     "data": {
      "text/latex": [
       "$\\displaystyle \\left(t^{10} - 10 t^{9} + 90 t^{8} - 720 t^{7} + 5040 t^{6} - 30240 t^{5} + 151200 t^{4} - 604800 t^{3} + 1814400 t^{2} - 3628800 t + 3628800\\right) e^{t} - 1334961 e$"
      ],
      "text/plain": [
       "(t**10 - 10*t**9 + 90*t**8 - 720*t**7 + 5040*t**6 - 30240*t**5 + 151200*t**4 - 604800*t**3 + 1814400*t**2 - 3628800*t + 3628800)*exp(t) - 1334961*E"
      ]
     },
     "execution_count": 12,
     "metadata": {},
     "output_type": "execute_result"
    }
   ],
   "source": [
    "smp.integrate(x**10 * smp.exp(x), (x, 1, t))"
   ]
  },
  {
   "cell_type": "markdown",
   "id": "4706a058",
   "metadata": {},
   "source": [
    "Taylor/Maclaurin Series"
   ]
  },
  {
   "cell_type": "code",
   "execution_count": null,
   "id": "aa03d5fd",
   "metadata": {},
   "outputs": [
    {
     "data": {
      "text/latex": [
       "$\\displaystyle 1 - \\frac{x^{2}}{2} + \\frac{x^{4}}{24} - \\frac{x^{6}}{720} + \\frac{x^{8}}{40320} + O\\left(x^{9}\\right)$"
      ],
      "text/plain": [
       "1 - x**2/2 + x**4/24 - x**6/720 + x**8/40320 + O(x**9)"
      ]
     },
     "execution_count": 7,
     "metadata": {},
     "output_type": "execute_result"
    }
   ],
   "source": [
    "expr = smp.cos(x)\n",
    "taylor_expansion = expr.series(x, 0, 9) # First parameter represents the variable you're expanding with respect to, second parameter represents what number the series is centered around, and the third is the order of the expansion\n",
    "taylor_expansion"
   ]
  },
  {
   "cell_type": "markdown",
   "id": "435fb518",
   "metadata": {},
   "source": [
    "## Multivariable Calculus"
   ]
  },
  {
   "cell_type": "code",
   "execution_count": 2,
   "id": "9603aff8",
   "metadata": {},
   "outputs": [],
   "source": [
    "x, y, z, u1, u2, u3, v1, v2, v3, t = smp.symbols('x y z u_1 u_2 u_3 v_1 v_2 v_3 t')"
   ]
  },
  {
   "cell_type": "markdown",
   "id": "f262cde3",
   "metadata": {},
   "source": [
    "Vectors and Matrices"
   ]
  },
  {
   "cell_type": "code",
   "execution_count": 6,
   "id": "ea97aef2",
   "metadata": {},
   "outputs": [],
   "source": [
    "u = smp.Matrix([u1, u2, u3])\n",
    "v = smp.Matrix([v1, v2, v3])"
   ]
  },
  {
   "cell_type": "markdown",
   "id": "e07353d9",
   "metadata": {},
   "source": [
    "Dot Product"
   ]
  },
  {
   "cell_type": "code",
   "execution_count": 7,
   "id": "2f5bb539",
   "metadata": {},
   "outputs": [
    {
     "data": {
      "text/latex": [
       "$\\displaystyle u_{1} v_{1} + u_{2} v_{2} + u_{3} v_{3}$"
      ],
      "text/plain": [
       "u_1*v_1 + u_2*v_2 + u_3*v_3"
      ]
     },
     "execution_count": 7,
     "metadata": {},
     "output_type": "execute_result"
    }
   ],
   "source": [
    "u.dot(v)"
   ]
  },
  {
   "cell_type": "markdown",
   "id": "327ea285",
   "metadata": {},
   "source": [
    "Cross Product"
   ]
  },
  {
   "cell_type": "code",
   "execution_count": null,
   "id": "c1ec30ec",
   "metadata": {},
   "outputs": [
    {
     "data": {
      "text/latex": [
       "$\\displaystyle \\left[\\begin{matrix}u_{2} v_{3} - u_{3} v_{2}\\\\- u_{1} v_{3} + u_{3} v_{1}\\\\u_{1} v_{2} - u_{2} v_{1}\\end{matrix}\\right]$"
      ],
      "text/plain": [
       "Matrix([\n",
       "[ u_2*v_3 - u_3*v_2],\n",
       "[-u_1*v_3 + u_3*v_1],\n",
       "[ u_1*v_2 - u_2*v_1]])"
      ]
     },
     "execution_count": 8,
     "metadata": {},
     "output_type": "execute_result"
    }
   ],
   "source": [
    "u.cross(v)"
   ]
  },
  {
   "cell_type": "markdown",
   "id": "95cfe729",
   "metadata": {},
   "source": [
    "Norm"
   ]
  },
  {
   "cell_type": "code",
   "execution_count": 9,
   "id": "b8f14369",
   "metadata": {},
   "outputs": [
    {
     "data": {
      "text/latex": [
       "$\\displaystyle \\sqrt{\\left|{u_{1}}\\right|^{2} + \\left|{u_{2}}\\right|^{2} + \\left|{u_{3}}\\right|^{2}}$"
      ],
      "text/plain": [
       "sqrt(Abs(u_1)**2 + Abs(u_2)**2 + Abs(u_3)**2)"
      ]
     },
     "execution_count": 9,
     "metadata": {},
     "output_type": "execute_result"
    }
   ],
   "source": [
    "u.norm()"
   ]
  },
  {
   "cell_type": "markdown",
   "id": "7e9bcb93",
   "metadata": {},
   "source": [
    "The projection of vector u onto vector v:\n",
    "$$proj_v {u} = \\frac{u\\cdot v}{||v||^2} v$$"
   ]
  },
  {
   "cell_type": "code",
   "execution_count": null,
   "id": "d8a5828f",
   "metadata": {},
   "outputs": [
    {
     "data": {
      "text/latex": [
       "$\\displaystyle \\left[\\begin{matrix}\\frac{v_{1} \\left(u_{1} v_{1} + u_{2} v_{2} + u_{3} v_{3}\\right)}{\\left|{v_{1}}\\right|^{2} + \\left|{v_{2}}\\right|^{2} + \\left|{v_{3}}\\right|^{2}}\\\\\\frac{v_{2} \\left(u_{1} v_{1} + u_{2} v_{2} + u_{3} v_{3}\\right)}{\\left|{v_{1}}\\right|^{2} + \\left|{v_{2}}\\right|^{2} + \\left|{v_{3}}\\right|^{2}}\\\\\\frac{v_{3} \\left(u_{1} v_{1} + u_{2} v_{2} + u_{3} v_{3}\\right)}{\\left|{v_{1}}\\right|^{2} + \\left|{v_{2}}\\right|^{2} + \\left|{v_{3}}\\right|^{2}}\\end{matrix}\\right]$"
      ],
      "text/plain": [
       "Matrix([\n",
       "[v_1*(u_1*v_1 + u_2*v_2 + u_3*v_3)/(Abs(v_1)**2 + Abs(v_2)**2 + Abs(v_3)**2)],\n",
       "[v_2*(u_1*v_1 + u_2*v_2 + u_3*v_3)/(Abs(v_1)**2 + Abs(v_2)**2 + Abs(v_3)**2)],\n",
       "[v_3*(u_1*v_1 + u_2*v_2 + u_3*v_3)/(Abs(v_1)**2 + Abs(v_2)**2 + Abs(v_3)**2)]])"
      ]
     },
     "execution_count": 10,
     "metadata": {},
     "output_type": "execute_result"
    }
   ],
   "source": [
    "proj_u_v = u.dot(v) / v.norm()**2 * v\n",
    "proj_u_v"
   ]
  },
  {
   "cell_type": "markdown",
   "id": "e9a29c14",
   "metadata": {},
   "source": [
    "Lines:\n",
    "\n",
    "$\\vec{r}(t) = \\vec{r_0} + t\\vec{v}$"
   ]
  },
  {
   "cell_type": "code",
   "execution_count": 11,
   "id": "cbe7c1b2",
   "metadata": {},
   "outputs": [
    {
     "data": {
      "text/latex": [
       "$\\displaystyle \\left[\\begin{matrix}t + 1\\\\3 t + 1\\\\1 - t\\end{matrix}\\right]$"
      ],
      "text/plain": [
       "Matrix([\n",
       "[  t + 1],\n",
       "[3*t + 1],\n",
       "[  1 - t]])"
      ]
     },
     "execution_count": 11,
     "metadata": {},
     "output_type": "execute_result"
    }
   ],
   "source": [
    "r0 = smp.Matrix([1, 1, 1])\n",
    "v = smp.Matrix([1, 3, -1])\n",
    "r = r0 + t*v\n",
    "r"
   ]
  },
  {
   "cell_type": "markdown",
   "id": "85734ba5",
   "metadata": {},
   "source": [
    "Planes\n",
    "\n",
    "$\\vec{n} \\cdot (P_0 - <x, y, z>) = 0$"
   ]
  },
  {
   "cell_type": "code",
   "execution_count": 12,
   "id": "d6653129",
   "metadata": {},
   "outputs": [
    {
     "data": {
      "text/latex": [
       "$\\displaystyle - x - y - z + 16$"
      ],
      "text/plain": [
       "-x - y - z + 16"
      ]
     },
     "execution_count": 12,
     "metadata": {},
     "output_type": "execute_result"
    }
   ],
   "source": [
    "n = smp.Matrix([1, 1, 1])\n",
    "P0 = smp.Matrix([4, 4, 8])\n",
    "r = smp.Matrix([x, y, z])\n",
    "n.dot(P0 - r)"
   ]
  },
  {
   "cell_type": "markdown",
   "id": "56cfc439",
   "metadata": {},
   "source": [
    "## Vector Calculus"
   ]
  },
  {
   "cell_type": "markdown",
   "id": "ee51c3fe",
   "metadata": {},
   "source": [
    "Vector Derivatives"
   ]
  },
  {
   "cell_type": "code",
   "execution_count": 13,
   "id": "ebabd0fe",
   "metadata": {},
   "outputs": [
    {
     "data": {
      "text/latex": [
       "$\\displaystyle \\left[\\begin{matrix}\\sin{\\left(t \\right)}\\\\t^{2}\\\\3 \\log{\\left(t \\right)}\\end{matrix}\\right]$"
      ],
      "text/plain": [
       "Matrix([\n",
       "[  sin(t)],\n",
       "[    t**2],\n",
       "[3*log(t)]])"
      ]
     },
     "execution_count": 13,
     "metadata": {},
     "output_type": "execute_result"
    }
   ],
   "source": [
    "r = smp.Matrix([smp.sin(t), t**2, 3*smp.log(t)])\n",
    "r"
   ]
  },
  {
   "cell_type": "code",
   "execution_count": 14,
   "id": "5431c9a8",
   "metadata": {},
   "outputs": [
    {
     "data": {
      "text/latex": [
       "$\\displaystyle \\left[\\begin{matrix}\\cos{\\left(t \\right)}\\\\2 t\\\\\\frac{3}{t}\\end{matrix}\\right]$"
      ],
      "text/plain": [
       "Matrix([\n",
       "[cos(t)],\n",
       "[   2*t],\n",
       "[   3/t]])"
      ]
     },
     "execution_count": 14,
     "metadata": {},
     "output_type": "execute_result"
    }
   ],
   "source": [
    "smp.diff(r, t)"
   ]
  }
 ],
 "metadata": {
  "kernelspec": {
   "display_name": "Python 3",
   "language": "python",
   "name": "python3"
  },
  "language_info": {
   "codemirror_mode": {
    "name": "ipython",
    "version": 3
   },
   "file_extension": ".py",
   "mimetype": "text/x-python",
   "name": "python",
   "nbconvert_exporter": "python",
   "pygments_lexer": "ipython3",
   "version": "3.13.3"
  }
 },
 "nbformat": 4,
 "nbformat_minor": 5
}
